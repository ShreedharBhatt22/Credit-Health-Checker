{
  "cells": [
    {
      "cell_type": "markdown",
      "id": "8ff52270-7c8b-4634-8261-7e18dfd91b78",
      "metadata": {
        "id": "8ff52270-7c8b-4634-8261-7e18dfd91b78"
      },
      "source": [
        "# Deep Learning model for Credit health check"
      ]
    },
    {
      "cell_type": "markdown",
      "id": "de944734-86c2-4f13-a013-636f66410932",
      "metadata": {
        "id": "de944734-86c2-4f13-a013-636f66410932"
      },
      "source": [
        "## importing libraries"
      ]
    },
    {
      "cell_type": "code",
      "execution_count": null,
      "id": "04421dd5-bf65-44fe-94d8-8b5b2d5f740b",
      "metadata": {
        "id": "04421dd5-bf65-44fe-94d8-8b5b2d5f740b"
      },
      "outputs": [],
      "source": [
        "import numpy as np\n",
        "import pandas as pd\n",
        "import seaborn as sns\n",
        "import matplotlib.pyplot as plt\n",
        "import matplotlib as mpl\n",
        "import torch\n",
        "import torch.nn as nn\n",
        "import torch.optim as optim\n",
        "from sklearn.model_selection import train_test_split\n",
        "from sklearn.preprocessing import LabelEncoder, StandardScaler\n",
        "from torch.utils.data import Dataset, DataLoader\n",
        "from sklearn.preprocessing import RobustScaler, StandardScaler\n",
        "from imblearn.over_sampling import SMOTE\n",
        "from sklearn.compose import ColumnTransformer\n",
        "from sklearn.metrics import accuracy_score, precision_score, recall_score, f1_score, confusion_matrix, classification_report, roc_auc_score, roc_curve, log_loss\n",
        "from sklearn.utils.class_weight import compute_class_weight"
      ]
    },
    {
      "cell_type": "code",
      "execution_count": null,
      "id": "59d9cc8d-b1a3-411e-8a9f-cd6e45e4afec",
      "metadata": {
        "id": "59d9cc8d-b1a3-411e-8a9f-cd6e45e4afec"
      },
      "outputs": [],
      "source": [
        "df=pd.read_csv('credit_score_cleaned_train.csv')"
      ]
    },
    {
      "cell_type": "code",
      "execution_count": null,
      "id": "af39f33c-10e7-4303-9051-37e137092c5b",
      "metadata": {
        "id": "af39f33c-10e7-4303-9051-37e137092c5b",
        "outputId": "b9b8060b-0514-45be-c4b3-a08a22119596"
      },
      "outputs": [
        {
          "data": {
            "text/html": [
              "<div>\n",
              "<style scoped>\n",
              "    .dataframe tbody tr th:only-of-type {\n",
              "        vertical-align: middle;\n",
              "    }\n",
              "\n",
              "    .dataframe tbody tr th {\n",
              "        vertical-align: top;\n",
              "    }\n",
              "\n",
              "    .dataframe thead th {\n",
              "        text-align: right;\n",
              "    }\n",
              "</style>\n",
              "<table border=\"1\" class=\"dataframe\">\n",
              "  <thead>\n",
              "    <tr style=\"text-align: right;\">\n",
              "      <th></th>\n",
              "      <th>id</th>\n",
              "      <th>customer_id</th>\n",
              "      <th>month</th>\n",
              "      <th>name</th>\n",
              "      <th>age</th>\n",
              "      <th>ssn</th>\n",
              "      <th>occupation</th>\n",
              "      <th>annual_income</th>\n",
              "      <th>monthly_inhand_salary</th>\n",
              "      <th>credit_history_age</th>\n",
              "      <th>...</th>\n",
              "      <th>changed_credit_limit</th>\n",
              "      <th>num_credit_inquiries</th>\n",
              "      <th>credit_mix</th>\n",
              "      <th>outstanding_debt</th>\n",
              "      <th>credit_utilization_ratio</th>\n",
              "      <th>payment_of_min_amount</th>\n",
              "      <th>amount_invested_monthly</th>\n",
              "      <th>payment_behaviour</th>\n",
              "      <th>monthly_balance</th>\n",
              "      <th>credit_score</th>\n",
              "    </tr>\n",
              "  </thead>\n",
              "  <tbody>\n",
              "    <tr>\n",
              "      <th>0</th>\n",
              "      <td>0x1602</td>\n",
              "      <td>CUS_0xd40</td>\n",
              "      <td>January</td>\n",
              "      <td>Aaron Maashoh</td>\n",
              "      <td>23</td>\n",
              "      <td>821-00-0265</td>\n",
              "      <td>Scientist</td>\n",
              "      <td>19114.12</td>\n",
              "      <td>1824.8434</td>\n",
              "      <td>89</td>\n",
              "      <td>...</td>\n",
              "      <td>11.27</td>\n",
              "      <td>4</td>\n",
              "      <td>Good</td>\n",
              "      <td>809.98</td>\n",
              "      <td>26.822620</td>\n",
              "      <td>No</td>\n",
              "      <td>80.415300</td>\n",
              "      <td>High_spent_Small_value_payments</td>\n",
              "      <td>312.49408</td>\n",
              "      <td>2</td>\n",
              "    </tr>\n",
              "    <tr>\n",
              "      <th>1</th>\n",
              "      <td>0x1603</td>\n",
              "      <td>CUS_0xd40</td>\n",
              "      <td>February</td>\n",
              "      <td>Aaron Maashoh</td>\n",
              "      <td>23</td>\n",
              "      <td>821-00-0265</td>\n",
              "      <td>Scientist</td>\n",
              "      <td>19114.12</td>\n",
              "      <td>1824.8434</td>\n",
              "      <td>93</td>\n",
              "      <td>...</td>\n",
              "      <td>11.27</td>\n",
              "      <td>4</td>\n",
              "      <td>Good</td>\n",
              "      <td>809.98</td>\n",
              "      <td>31.944960</td>\n",
              "      <td>No</td>\n",
              "      <td>118.280220</td>\n",
              "      <td>Low_spent_Large_value_payments</td>\n",
              "      <td>284.62915</td>\n",
              "      <td>2</td>\n",
              "    </tr>\n",
              "    <tr>\n",
              "      <th>2</th>\n",
              "      <td>0x1604</td>\n",
              "      <td>CUS_0xd40</td>\n",
              "      <td>March</td>\n",
              "      <td>Aaron Maashoh</td>\n",
              "      <td>23</td>\n",
              "      <td>821-00-0265</td>\n",
              "      <td>Scientist</td>\n",
              "      <td>19114.12</td>\n",
              "      <td>1824.8434</td>\n",
              "      <td>91</td>\n",
              "      <td>...</td>\n",
              "      <td>11.27</td>\n",
              "      <td>4</td>\n",
              "      <td>Good</td>\n",
              "      <td>809.98</td>\n",
              "      <td>28.609352</td>\n",
              "      <td>No</td>\n",
              "      <td>81.699524</td>\n",
              "      <td>Low_spent_Medium_value_payments</td>\n",
              "      <td>331.20987</td>\n",
              "      <td>2</td>\n",
              "    </tr>\n",
              "    <tr>\n",
              "      <th>3</th>\n",
              "      <td>0x1605</td>\n",
              "      <td>CUS_0xd40</td>\n",
              "      <td>April</td>\n",
              "      <td>Aaron Maashoh</td>\n",
              "      <td>23</td>\n",
              "      <td>821-00-0265</td>\n",
              "      <td>Scientist</td>\n",
              "      <td>19114.12</td>\n",
              "      <td>1824.8434</td>\n",
              "      <td>92</td>\n",
              "      <td>...</td>\n",
              "      <td>6.27</td>\n",
              "      <td>4</td>\n",
              "      <td>Good</td>\n",
              "      <td>809.98</td>\n",
              "      <td>31.377861</td>\n",
              "      <td>No</td>\n",
              "      <td>199.458070</td>\n",
              "      <td>Low_spent_Small_value_payments</td>\n",
              "      <td>223.45131</td>\n",
              "      <td>2</td>\n",
              "    </tr>\n",
              "    <tr>\n",
              "      <th>4</th>\n",
              "      <td>0x1606</td>\n",
              "      <td>CUS_0xd40</td>\n",
              "      <td>May</td>\n",
              "      <td>Aaron Maashoh</td>\n",
              "      <td>23</td>\n",
              "      <td>821-00-0265</td>\n",
              "      <td>Scientist</td>\n",
              "      <td>19114.12</td>\n",
              "      <td>1824.8434</td>\n",
              "      <td>93</td>\n",
              "      <td>...</td>\n",
              "      <td>11.27</td>\n",
              "      <td>4</td>\n",
              "      <td>Good</td>\n",
              "      <td>809.98</td>\n",
              "      <td>24.797346</td>\n",
              "      <td>No</td>\n",
              "      <td>41.420155</td>\n",
              "      <td>High_spent_Medium_value_payments</td>\n",
              "      <td>341.48923</td>\n",
              "      <td>2</td>\n",
              "    </tr>\n",
              "    <tr>\n",
              "      <th>...</th>\n",
              "      <td>...</td>\n",
              "      <td>...</td>\n",
              "      <td>...</td>\n",
              "      <td>...</td>\n",
              "      <td>...</td>\n",
              "      <td>...</td>\n",
              "      <td>...</td>\n",
              "      <td>...</td>\n",
              "      <td>...</td>\n",
              "      <td>...</td>\n",
              "      <td>...</td>\n",
              "      <td>...</td>\n",
              "      <td>...</td>\n",
              "      <td>...</td>\n",
              "      <td>...</td>\n",
              "      <td>...</td>\n",
              "      <td>...</td>\n",
              "      <td>...</td>\n",
              "      <td>...</td>\n",
              "      <td>...</td>\n",
              "      <td>...</td>\n",
              "    </tr>\n",
              "    <tr>\n",
              "      <th>96691</th>\n",
              "      <td>0x25fe9</td>\n",
              "      <td>CUS_0x942c</td>\n",
              "      <td>April</td>\n",
              "      <td>Nicks</td>\n",
              "      <td>25</td>\n",
              "      <td>078-73-5990</td>\n",
              "      <td>Mechanic</td>\n",
              "      <td>39628.99</td>\n",
              "      <td>3359.4158</td>\n",
              "      <td>130</td>\n",
              "      <td>...</td>\n",
              "      <td>11.50</td>\n",
              "      <td>3</td>\n",
              "      <td>Good</td>\n",
              "      <td>502.38</td>\n",
              "      <td>34.663570</td>\n",
              "      <td>No</td>\n",
              "      <td>60.971333</td>\n",
              "      <td>High_spent_Large_value_payments</td>\n",
              "      <td>479.86624</td>\n",
              "      <td>0</td>\n",
              "    </tr>\n",
              "    <tr>\n",
              "      <th>96692</th>\n",
              "      <td>0x25fea</td>\n",
              "      <td>CUS_0x942c</td>\n",
              "      <td>May</td>\n",
              "      <td>Nicks</td>\n",
              "      <td>25</td>\n",
              "      <td>078-73-5990</td>\n",
              "      <td>Mechanic</td>\n",
              "      <td>39628.99</td>\n",
              "      <td>3359.4158</td>\n",
              "      <td>131</td>\n",
              "      <td>...</td>\n",
              "      <td>11.50</td>\n",
              "      <td>3</td>\n",
              "      <td>Good</td>\n",
              "      <td>502.38</td>\n",
              "      <td>40.565630</td>\n",
              "      <td>No</td>\n",
              "      <td>54.185950</td>\n",
              "      <td>High_spent_Medium_value_payments</td>\n",
              "      <td>496.65160</td>\n",
              "      <td>0</td>\n",
              "    </tr>\n",
              "    <tr>\n",
              "      <th>96693</th>\n",
              "      <td>0x25feb</td>\n",
              "      <td>CUS_0x942c</td>\n",
              "      <td>June</td>\n",
              "      <td>Nicks</td>\n",
              "      <td>25</td>\n",
              "      <td>078-73-5990</td>\n",
              "      <td>Mechanic</td>\n",
              "      <td>39628.99</td>\n",
              "      <td>3359.4158</td>\n",
              "      <td>132</td>\n",
              "      <td>...</td>\n",
              "      <td>11.50</td>\n",
              "      <td>3</td>\n",
              "      <td>Good</td>\n",
              "      <td>502.38</td>\n",
              "      <td>41.255524</td>\n",
              "      <td>No</td>\n",
              "      <td>24.028477</td>\n",
              "      <td>High_spent_Large_value_payments</td>\n",
              "      <td>516.80910</td>\n",
              "      <td>0</td>\n",
              "    </tr>\n",
              "    <tr>\n",
              "      <th>96694</th>\n",
              "      <td>0x25fec</td>\n",
              "      <td>CUS_0x942c</td>\n",
              "      <td>July</td>\n",
              "      <td>Nicks</td>\n",
              "      <td>25</td>\n",
              "      <td>078-73-5990</td>\n",
              "      <td>Mechanic</td>\n",
              "      <td>39628.99</td>\n",
              "      <td>3359.4158</td>\n",
              "      <td>133</td>\n",
              "      <td>...</td>\n",
              "      <td>11.50</td>\n",
              "      <td>3</td>\n",
              "      <td>Good</td>\n",
              "      <td>502.38</td>\n",
              "      <td>33.638206</td>\n",
              "      <td>No</td>\n",
              "      <td>251.672580</td>\n",
              "      <td>Low_spent_Large_value_payments</td>\n",
              "      <td>319.16498</td>\n",
              "      <td>1</td>\n",
              "    </tr>\n",
              "    <tr>\n",
              "      <th>96695</th>\n",
              "      <td>0x25fed</td>\n",
              "      <td>CUS_0x942c</td>\n",
              "      <td>August</td>\n",
              "      <td>Nicks</td>\n",
              "      <td>25</td>\n",
              "      <td>078-73-5990</td>\n",
              "      <td>Mechanic</td>\n",
              "      <td>39628.99</td>\n",
              "      <td>3359.4158</td>\n",
              "      <td>134</td>\n",
              "      <td>...</td>\n",
              "      <td>11.50</td>\n",
              "      <td>3</td>\n",
              "      <td>Good</td>\n",
              "      <td>502.38</td>\n",
              "      <td>34.192463</td>\n",
              "      <td>No</td>\n",
              "      <td>167.163860</td>\n",
              "      <td>Low_spent_Large_value_payments</td>\n",
              "      <td>393.67370</td>\n",
              "      <td>0</td>\n",
              "    </tr>\n",
              "  </tbody>\n",
              "</table>\n",
              "<p>96696 rows × 28 columns</p>\n",
              "</div>"
            ],
            "text/plain": [
              "            id customer_id     month           name  age          ssn  \\\n",
              "0       0x1602   CUS_0xd40   January  Aaron Maashoh   23  821-00-0265   \n",
              "1       0x1603   CUS_0xd40  February  Aaron Maashoh   23  821-00-0265   \n",
              "2       0x1604   CUS_0xd40     March  Aaron Maashoh   23  821-00-0265   \n",
              "3       0x1605   CUS_0xd40     April  Aaron Maashoh   23  821-00-0265   \n",
              "4       0x1606   CUS_0xd40       May  Aaron Maashoh   23  821-00-0265   \n",
              "...        ...         ...       ...            ...  ...          ...   \n",
              "96691  0x25fe9  CUS_0x942c     April          Nicks   25  078-73-5990   \n",
              "96692  0x25fea  CUS_0x942c       May          Nicks   25  078-73-5990   \n",
              "96693  0x25feb  CUS_0x942c      June          Nicks   25  078-73-5990   \n",
              "96694  0x25fec  CUS_0x942c      July          Nicks   25  078-73-5990   \n",
              "96695  0x25fed  CUS_0x942c    August          Nicks   25  078-73-5990   \n",
              "\n",
              "      occupation  annual_income  monthly_inhand_salary  credit_history_age  \\\n",
              "0      Scientist       19114.12              1824.8434                  89   \n",
              "1      Scientist       19114.12              1824.8434                  93   \n",
              "2      Scientist       19114.12              1824.8434                  91   \n",
              "3      Scientist       19114.12              1824.8434                  92   \n",
              "4      Scientist       19114.12              1824.8434                  93   \n",
              "...          ...            ...                    ...                 ...   \n",
              "96691   Mechanic       39628.99              3359.4158                 130   \n",
              "96692   Mechanic       39628.99              3359.4158                 131   \n",
              "96693   Mechanic       39628.99              3359.4158                 132   \n",
              "96694   Mechanic       39628.99              3359.4158                 133   \n",
              "96695   Mechanic       39628.99              3359.4158                 134   \n",
              "\n",
              "       ...  changed_credit_limit  num_credit_inquiries  credit_mix  \\\n",
              "0      ...                 11.27                     4        Good   \n",
              "1      ...                 11.27                     4        Good   \n",
              "2      ...                 11.27                     4        Good   \n",
              "3      ...                  6.27                     4        Good   \n",
              "4      ...                 11.27                     4        Good   \n",
              "...    ...                   ...                   ...         ...   \n",
              "96691  ...                 11.50                     3        Good   \n",
              "96692  ...                 11.50                     3        Good   \n",
              "96693  ...                 11.50                     3        Good   \n",
              "96694  ...                 11.50                     3        Good   \n",
              "96695  ...                 11.50                     3        Good   \n",
              "\n",
              "       outstanding_debt  credit_utilization_ratio payment_of_min_amount  \\\n",
              "0                809.98                 26.822620                    No   \n",
              "1                809.98                 31.944960                    No   \n",
              "2                809.98                 28.609352                    No   \n",
              "3                809.98                 31.377861                    No   \n",
              "4                809.98                 24.797346                    No   \n",
              "...                 ...                       ...                   ...   \n",
              "96691            502.38                 34.663570                    No   \n",
              "96692            502.38                 40.565630                    No   \n",
              "96693            502.38                 41.255524                    No   \n",
              "96694            502.38                 33.638206                    No   \n",
              "96695            502.38                 34.192463                    No   \n",
              "\n",
              "       amount_invested_monthly                 payment_behaviour  \\\n",
              "0                    80.415300   High_spent_Small_value_payments   \n",
              "1                   118.280220    Low_spent_Large_value_payments   \n",
              "2                    81.699524   Low_spent_Medium_value_payments   \n",
              "3                   199.458070    Low_spent_Small_value_payments   \n",
              "4                    41.420155  High_spent_Medium_value_payments   \n",
              "...                        ...                               ...   \n",
              "96691                60.971333   High_spent_Large_value_payments   \n",
              "96692                54.185950  High_spent_Medium_value_payments   \n",
              "96693                24.028477   High_spent_Large_value_payments   \n",
              "96694               251.672580    Low_spent_Large_value_payments   \n",
              "96695               167.163860    Low_spent_Large_value_payments   \n",
              "\n",
              "       monthly_balance  credit_score  \n",
              "0            312.49408             2  \n",
              "1            284.62915             2  \n",
              "2            331.20987             2  \n",
              "3            223.45131             2  \n",
              "4            341.48923             2  \n",
              "...                ...           ...  \n",
              "96691        479.86624             0  \n",
              "96692        496.65160             0  \n",
              "96693        516.80910             0  \n",
              "96694        319.16498             1  \n",
              "96695        393.67370             0  \n",
              "\n",
              "[96696 rows x 28 columns]"
            ]
          },
          "execution_count": 48,
          "metadata": {},
          "output_type": "execute_result"
        }
      ],
      "source": [
        "df\n"
      ]
    },
    {
      "cell_type": "code",
      "execution_count": null,
      "id": "c95443f0-ca5f-489b-8c8c-4e0b8ef8a47d",
      "metadata": {
        "id": "c95443f0-ca5f-489b-8c8c-4e0b8ef8a47d",
        "outputId": "3c87ac7d-e7d5-4273-fc4d-cc7f0a656dd1"
      },
      "outputs": [
        {
          "name": "stdout",
          "output_type": "stream",
          "text": [
            "<class 'pandas.core.frame.DataFrame'>\n",
            "RangeIndex: 96696 entries, 0 to 96695\n",
            "Data columns (total 28 columns):\n",
            " #   Column                    Non-Null Count  Dtype  \n",
            "---  ------                    --------------  -----  \n",
            " 0   id                        96696 non-null  object \n",
            " 1   customer_id               96696 non-null  object \n",
            " 2   month                     96696 non-null  object \n",
            " 3   name                      96696 non-null  object \n",
            " 4   age                       96696 non-null  int64  \n",
            " 5   ssn                       96696 non-null  object \n",
            " 6   occupation                96696 non-null  object \n",
            " 7   annual_income             96696 non-null  float64\n",
            " 8   monthly_inhand_salary     96696 non-null  float64\n",
            " 9   credit_history_age        96696 non-null  int64  \n",
            " 10  total_emi_per_month       96696 non-null  float64\n",
            " 11  num_bank_accounts         96696 non-null  int64  \n",
            " 12  num_credit_card           96696 non-null  int64  \n",
            " 13  interest_rate             96696 non-null  int64  \n",
            " 14  num_of_loan               96696 non-null  int64  \n",
            " 15  type_of_loan              96696 non-null  object \n",
            " 16  delay_from_due_date       96696 non-null  int64  \n",
            " 17  num_of_delayed_payment    96696 non-null  int64  \n",
            " 18  changed_credit_limit      96696 non-null  float64\n",
            " 19  num_credit_inquiries      96696 non-null  int64  \n",
            " 20  credit_mix                96696 non-null  object \n",
            " 21  outstanding_debt          96696 non-null  float64\n",
            " 22  credit_utilization_ratio  96696 non-null  float64\n",
            " 23  payment_of_min_amount     96696 non-null  object \n",
            " 24  amount_invested_monthly   96696 non-null  float64\n",
            " 25  payment_behaviour         96696 non-null  object \n",
            " 26  monthly_balance           96696 non-null  float64\n",
            " 27  credit_score              96696 non-null  int64  \n",
            "dtypes: float64(8), int64(10), object(10)\n",
            "memory usage: 20.7+ MB\n"
          ]
        }
      ],
      "source": [
        "df.info()"
      ]
    },
    {
      "cell_type": "code",
      "execution_count": null,
      "id": "170f51b3-0970-4d48-9779-c26be43c6d03",
      "metadata": {
        "id": "170f51b3-0970-4d48-9779-c26be43c6d03",
        "outputId": "035cb9c3-1c64-4c3b-f34b-96778afa968f"
      },
      "outputs": [
        {
          "data": {
            "text/html": [
              "<div>\n",
              "<style scoped>\n",
              "    .dataframe tbody tr th:only-of-type {\n",
              "        vertical-align: middle;\n",
              "    }\n",
              "\n",
              "    .dataframe tbody tr th {\n",
              "        vertical-align: top;\n",
              "    }\n",
              "\n",
              "    .dataframe thead th {\n",
              "        text-align: right;\n",
              "    }\n",
              "</style>\n",
              "<table border=\"1\" class=\"dataframe\">\n",
              "  <thead>\n",
              "    <tr style=\"text-align: right;\">\n",
              "      <th></th>\n",
              "      <th>count</th>\n",
              "      <th>mean</th>\n",
              "      <th>std</th>\n",
              "      <th>min</th>\n",
              "      <th>25%</th>\n",
              "      <th>50%</th>\n",
              "      <th>75%</th>\n",
              "      <th>max</th>\n",
              "    </tr>\n",
              "  </thead>\n",
              "  <tbody>\n",
              "    <tr>\n",
              "      <th>Monthly_Inhand_Salary</th>\n",
              "      <td>84998.0</td>\n",
              "      <td>4194.170850</td>\n",
              "      <td>3183.686167</td>\n",
              "      <td>303.645417</td>\n",
              "      <td>1625.568229</td>\n",
              "      <td>3093.745000</td>\n",
              "      <td>5957.448333</td>\n",
              "      <td>15204.633333</td>\n",
              "    </tr>\n",
              "    <tr>\n",
              "      <th>Num_Bank_Accounts</th>\n",
              "      <td>100000.0</td>\n",
              "      <td>17.091280</td>\n",
              "      <td>117.404834</td>\n",
              "      <td>-1.000000</td>\n",
              "      <td>3.000000</td>\n",
              "      <td>6.000000</td>\n",
              "      <td>7.000000</td>\n",
              "      <td>1798.000000</td>\n",
              "    </tr>\n",
              "    <tr>\n",
              "      <th>Num_Credit_Card</th>\n",
              "      <td>100000.0</td>\n",
              "      <td>22.474430</td>\n",
              "      <td>129.057410</td>\n",
              "      <td>0.000000</td>\n",
              "      <td>4.000000</td>\n",
              "      <td>5.000000</td>\n",
              "      <td>7.000000</td>\n",
              "      <td>1499.000000</td>\n",
              "    </tr>\n",
              "    <tr>\n",
              "      <th>Interest_Rate</th>\n",
              "      <td>100000.0</td>\n",
              "      <td>72.466040</td>\n",
              "      <td>466.422621</td>\n",
              "      <td>1.000000</td>\n",
              "      <td>8.000000</td>\n",
              "      <td>13.000000</td>\n",
              "      <td>20.000000</td>\n",
              "      <td>5797.000000</td>\n",
              "    </tr>\n",
              "    <tr>\n",
              "      <th>Delay_from_due_date</th>\n",
              "      <td>100000.0</td>\n",
              "      <td>21.068780</td>\n",
              "      <td>14.860104</td>\n",
              "      <td>-5.000000</td>\n",
              "      <td>10.000000</td>\n",
              "      <td>18.000000</td>\n",
              "      <td>28.000000</td>\n",
              "      <td>67.000000</td>\n",
              "    </tr>\n",
              "    <tr>\n",
              "      <th>Num_Credit_Inquiries</th>\n",
              "      <td>98035.0</td>\n",
              "      <td>27.754251</td>\n",
              "      <td>193.177339</td>\n",
              "      <td>0.000000</td>\n",
              "      <td>3.000000</td>\n",
              "      <td>6.000000</td>\n",
              "      <td>9.000000</td>\n",
              "      <td>2597.000000</td>\n",
              "    </tr>\n",
              "    <tr>\n",
              "      <th>Credit_Utilization_Ratio</th>\n",
              "      <td>100000.0</td>\n",
              "      <td>32.285173</td>\n",
              "      <td>5.116875</td>\n",
              "      <td>20.000000</td>\n",
              "      <td>28.052567</td>\n",
              "      <td>32.305784</td>\n",
              "      <td>36.496663</td>\n",
              "      <td>50.000000</td>\n",
              "    </tr>\n",
              "    <tr>\n",
              "      <th>Total_EMI_per_month</th>\n",
              "      <td>100000.0</td>\n",
              "      <td>1403.118217</td>\n",
              "      <td>8306.041270</td>\n",
              "      <td>0.000000</td>\n",
              "      <td>30.306660</td>\n",
              "      <td>69.249473</td>\n",
              "      <td>161.224249</td>\n",
              "      <td>82331.000000</td>\n",
              "    </tr>\n",
              "  </tbody>\n",
              "</table>\n",
              "</div>"
            ],
            "text/plain": [
              "                             count         mean          std         min  \\\n",
              "Monthly_Inhand_Salary      84998.0  4194.170850  3183.686167  303.645417   \n",
              "Num_Bank_Accounts         100000.0    17.091280   117.404834   -1.000000   \n",
              "Num_Credit_Card           100000.0    22.474430   129.057410    0.000000   \n",
              "Interest_Rate             100000.0    72.466040   466.422621    1.000000   \n",
              "Delay_from_due_date       100000.0    21.068780    14.860104   -5.000000   \n",
              "Num_Credit_Inquiries       98035.0    27.754251   193.177339    0.000000   \n",
              "Credit_Utilization_Ratio  100000.0    32.285173     5.116875   20.000000   \n",
              "Total_EMI_per_month       100000.0  1403.118217  8306.041270    0.000000   \n",
              "\n",
              "                                  25%          50%          75%           max  \n",
              "Monthly_Inhand_Salary     1625.568229  3093.745000  5957.448333  15204.633333  \n",
              "Num_Bank_Accounts            3.000000     6.000000     7.000000   1798.000000  \n",
              "Num_Credit_Card              4.000000     5.000000     7.000000   1499.000000  \n",
              "Interest_Rate                8.000000    13.000000    20.000000   5797.000000  \n",
              "Delay_from_due_date         10.000000    18.000000    28.000000     67.000000  \n",
              "Num_Credit_Inquiries         3.000000     6.000000     9.000000   2597.000000  \n",
              "Credit_Utilization_Ratio    28.052567    32.305784    36.496663     50.000000  \n",
              "Total_EMI_per_month         30.306660    69.249473   161.224249  82331.000000  "
            ]
          },
          "execution_count": 52,
          "metadata": {},
          "output_type": "execute_result"
        }
      ],
      "source": [
        "df_train.describe().T"
      ]
    },
    {
      "cell_type": "markdown",
      "id": "856c7c77-80cc-48d8-be04-ba7a14e05722",
      "metadata": {
        "id": "856c7c77-80cc-48d8-be04-ba7a14e05722"
      },
      "source": [
        "## Check the target distribution"
      ]
    },
    {
      "cell_type": "code",
      "execution_count": null,
      "id": "a868f808-bd91-4e71-9ece-31696b25edba",
      "metadata": {
        "id": "a868f808-bd91-4e71-9ece-31696b25edba",
        "outputId": "692e6fee-e59c-4ad1-c808-173fc57e4b35"
      },
      "outputs": [
        {
          "data": {
            "text/plain": [
              "credit_score\n",
              "1    0.532628\n",
              "0    0.284241\n",
              "2    0.183131\n",
              "Name: proportion, dtype: float64"
            ]
          },
          "execution_count": 57,
          "metadata": {},
          "output_type": "execute_result"
        }
      ],
      "source": [
        "df[\"credit_score\"].value_counts(normalize = True)"
      ]
    },
    {
      "cell_type": "markdown",
      "id": "67debf72-0e4b-4fb4-a14b-652c44355c57",
      "metadata": {
        "id": "67debf72-0e4b-4fb4-a14b-652c44355c57"
      },
      "source": [
        "### Replacing '-' and spaces with underscores, converting other characters to lowercase"
      ]
    },
    {
      "cell_type": "code",
      "execution_count": null,
      "id": "f2931b3f-0d9e-45fd-8095-3f01a524cd6a",
      "metadata": {
        "id": "f2931b3f-0d9e-45fd-8095-3f01a524cd6a"
      },
      "outputs": [],
      "source": [
        "unique_loan_types = ['Auto Loan', 'Credit-Builder Loan', 'Debt Consolidation Loan', 'Home Equity Loan', 'Mortgage Loan',\n",
        "                     'No Loan', 'Not Specified', 'Payday Loan', 'Personal Loan', 'Student Loan']\n",
        "\n",
        "\n",
        "for loan_type in unique_loan_types:\n",
        "\n",
        "    cleaned_loan_type = loan_type.replace(' ', '_').replace('-', '_').lower()\n",
        "\n",
        "\n",
        "    df[cleaned_loan_type] = df['type_of_loan'].apply(lambda x: x.count(loan_type))"
      ]
    },
    {
      "cell_type": "markdown",
      "id": "63c318a5-a7a6-47cd-8b88-a8fe09e1deed",
      "metadata": {
        "id": "63c318a5-a7a6-47cd-8b88-a8fe09e1deed"
      },
      "source": [
        "### Removing unnecesarry columns"
      ]
    },
    {
      "cell_type": "code",
      "execution_count": null,
      "id": "7249c28b-a820-4bd3-8cd6-511246b804a0",
      "metadata": {
        "id": "7249c28b-a820-4bd3-8cd6-511246b804a0",
        "outputId": "37cd50d1-0455-4145-d7fd-5e7624e48f9f"
      },
      "outputs": [
        {
          "data": {
            "text/html": [
              "<div>\n",
              "<style scoped>\n",
              "    .dataframe tbody tr th:only-of-type {\n",
              "        vertical-align: middle;\n",
              "    }\n",
              "\n",
              "    .dataframe tbody tr th {\n",
              "        vertical-align: top;\n",
              "    }\n",
              "\n",
              "    .dataframe thead th {\n",
              "        text-align: right;\n",
              "    }\n",
              "</style>\n",
              "<table border=\"1\" class=\"dataframe\">\n",
              "  <thead>\n",
              "    <tr style=\"text-align: right;\">\n",
              "      <th></th>\n",
              "      <th>month</th>\n",
              "      <th>age</th>\n",
              "      <th>occupation</th>\n",
              "      <th>annual_income</th>\n",
              "      <th>monthly_inhand_salary</th>\n",
              "      <th>credit_history_age</th>\n",
              "      <th>total_emi_per_month</th>\n",
              "      <th>num_bank_accounts</th>\n",
              "      <th>num_credit_card</th>\n",
              "      <th>interest_rate</th>\n",
              "      <th>...</th>\n",
              "      <th>auto_loan</th>\n",
              "      <th>credit_builder_loan</th>\n",
              "      <th>debt_consolidation_loan</th>\n",
              "      <th>home_equity_loan</th>\n",
              "      <th>mortgage_loan</th>\n",
              "      <th>no_loan</th>\n",
              "      <th>not_specified</th>\n",
              "      <th>payday_loan</th>\n",
              "      <th>personal_loan</th>\n",
              "      <th>student_loan</th>\n",
              "    </tr>\n",
              "  </thead>\n",
              "  <tbody>\n",
              "    <tr>\n",
              "      <th>0</th>\n",
              "      <td>January</td>\n",
              "      <td>23</td>\n",
              "      <td>Scientist</td>\n",
              "      <td>19114.12</td>\n",
              "      <td>1824.8434</td>\n",
              "      <td>89</td>\n",
              "      <td>49.574947</td>\n",
              "      <td>3</td>\n",
              "      <td>4</td>\n",
              "      <td>3</td>\n",
              "      <td>...</td>\n",
              "      <td>1</td>\n",
              "      <td>1</td>\n",
              "      <td>0</td>\n",
              "      <td>1</td>\n",
              "      <td>0</td>\n",
              "      <td>0</td>\n",
              "      <td>0</td>\n",
              "      <td>0</td>\n",
              "      <td>1</td>\n",
              "      <td>0</td>\n",
              "    </tr>\n",
              "    <tr>\n",
              "      <th>1</th>\n",
              "      <td>February</td>\n",
              "      <td>23</td>\n",
              "      <td>Scientist</td>\n",
              "      <td>19114.12</td>\n",
              "      <td>1824.8434</td>\n",
              "      <td>93</td>\n",
              "      <td>49.574947</td>\n",
              "      <td>3</td>\n",
              "      <td>4</td>\n",
              "      <td>3</td>\n",
              "      <td>...</td>\n",
              "      <td>1</td>\n",
              "      <td>1</td>\n",
              "      <td>0</td>\n",
              "      <td>1</td>\n",
              "      <td>0</td>\n",
              "      <td>0</td>\n",
              "      <td>0</td>\n",
              "      <td>0</td>\n",
              "      <td>1</td>\n",
              "      <td>0</td>\n",
              "    </tr>\n",
              "    <tr>\n",
              "      <th>2</th>\n",
              "      <td>March</td>\n",
              "      <td>23</td>\n",
              "      <td>Scientist</td>\n",
              "      <td>19114.12</td>\n",
              "      <td>1824.8434</td>\n",
              "      <td>91</td>\n",
              "      <td>49.574947</td>\n",
              "      <td>3</td>\n",
              "      <td>4</td>\n",
              "      <td>3</td>\n",
              "      <td>...</td>\n",
              "      <td>1</td>\n",
              "      <td>1</td>\n",
              "      <td>0</td>\n",
              "      <td>1</td>\n",
              "      <td>0</td>\n",
              "      <td>0</td>\n",
              "      <td>0</td>\n",
              "      <td>0</td>\n",
              "      <td>1</td>\n",
              "      <td>0</td>\n",
              "    </tr>\n",
              "    <tr>\n",
              "      <th>3</th>\n",
              "      <td>April</td>\n",
              "      <td>23</td>\n",
              "      <td>Scientist</td>\n",
              "      <td>19114.12</td>\n",
              "      <td>1824.8434</td>\n",
              "      <td>92</td>\n",
              "      <td>49.574947</td>\n",
              "      <td>3</td>\n",
              "      <td>4</td>\n",
              "      <td>3</td>\n",
              "      <td>...</td>\n",
              "      <td>1</td>\n",
              "      <td>1</td>\n",
              "      <td>0</td>\n",
              "      <td>1</td>\n",
              "      <td>0</td>\n",
              "      <td>0</td>\n",
              "      <td>0</td>\n",
              "      <td>0</td>\n",
              "      <td>1</td>\n",
              "      <td>0</td>\n",
              "    </tr>\n",
              "    <tr>\n",
              "      <th>4</th>\n",
              "      <td>May</td>\n",
              "      <td>23</td>\n",
              "      <td>Scientist</td>\n",
              "      <td>19114.12</td>\n",
              "      <td>1824.8434</td>\n",
              "      <td>93</td>\n",
              "      <td>49.574947</td>\n",
              "      <td>3</td>\n",
              "      <td>4</td>\n",
              "      <td>3</td>\n",
              "      <td>...</td>\n",
              "      <td>1</td>\n",
              "      <td>1</td>\n",
              "      <td>0</td>\n",
              "      <td>1</td>\n",
              "      <td>0</td>\n",
              "      <td>0</td>\n",
              "      <td>0</td>\n",
              "      <td>0</td>\n",
              "      <td>1</td>\n",
              "      <td>0</td>\n",
              "    </tr>\n",
              "  </tbody>\n",
              "</table>\n",
              "<p>5 rows × 33 columns</p>\n",
              "</div>"
            ],
            "text/plain": [
              "      month  age occupation  annual_income  monthly_inhand_salary  \\\n",
              "0   January   23  Scientist       19114.12              1824.8434   \n",
              "1  February   23  Scientist       19114.12              1824.8434   \n",
              "2     March   23  Scientist       19114.12              1824.8434   \n",
              "3     April   23  Scientist       19114.12              1824.8434   \n",
              "4       May   23  Scientist       19114.12              1824.8434   \n",
              "\n",
              "   credit_history_age  total_emi_per_month  num_bank_accounts  \\\n",
              "0                  89            49.574947                  3   \n",
              "1                  93            49.574947                  3   \n",
              "2                  91            49.574947                  3   \n",
              "3                  92            49.574947                  3   \n",
              "4                  93            49.574947                  3   \n",
              "\n",
              "   num_credit_card  interest_rate  ...  auto_loan  credit_builder_loan  \\\n",
              "0                4              3  ...          1                    1   \n",
              "1                4              3  ...          1                    1   \n",
              "2                4              3  ...          1                    1   \n",
              "3                4              3  ...          1                    1   \n",
              "4                4              3  ...          1                    1   \n",
              "\n",
              "   debt_consolidation_loan  home_equity_loan  mortgage_loan no_loan  \\\n",
              "0                        0                 1              0       0   \n",
              "1                        0                 1              0       0   \n",
              "2                        0                 1              0       0   \n",
              "3                        0                 1              0       0   \n",
              "4                        0                 1              0       0   \n",
              "\n",
              "   not_specified  payday_loan personal_loan  student_loan  \n",
              "0              0            0             1             0  \n",
              "1              0            0             1             0  \n",
              "2              0            0             1             0  \n",
              "3              0            0             1             0  \n",
              "4              0            0             1             0  \n",
              "\n",
              "[5 rows x 33 columns]"
            ]
          },
          "execution_count": 63,
          "metadata": {},
          "output_type": "execute_result"
        }
      ],
      "source": [
        "df = df.drop([\n",
        "    \"id\", \"customer_id\", \"name\", \"ssn\", \"type_of_loan\"], axis=1)\n",
        "\n",
        "df.head()"
      ]
    },
    {
      "cell_type": "code",
      "execution_count": null,
      "id": "01f3b9db-e632-4184-a6b0-740dd071eeb6",
      "metadata": {
        "id": "01f3b9db-e632-4184-a6b0-740dd071eeb6"
      },
      "outputs": [],
      "source": [
        "payment_mapping = {\n",
        "    'High_spent_Large_value_payments': 6,\n",
        "    'High_spent_Medium_value_payments': 5,\n",
        "    'High_spent_Small_value_payments': 4,\n",
        "    'Low_spent_Large_value_payments': 3,\n",
        "    'Low_spent_Medium_value_payments': 2,\n",
        "    'Low_spent_Small_value_payments': 1\n",
        "}\n",
        "\n",
        "\n",
        "df['payment_behaviour'] = df['payment_behaviour'].map(payment_mapping)\n",
        "\n",
        "df['payment_behaviour'] = pd.to_numeric(df['payment_behaviour'], downcast='integer')"
      ]
    },
    {
      "cell_type": "markdown",
      "id": "1bfadf78-f44d-47e4-8f0f-6ff1a413ce55",
      "metadata": {
        "id": "1bfadf78-f44d-47e4-8f0f-6ff1a413ce55"
      },
      "source": [
        "## Convert the credit_mix column to numerical values"
      ]
    },
    {
      "cell_type": "code",
      "execution_count": null,
      "id": "75edc99b-d3e1-43b4-b730-0f4121dafe6a",
      "metadata": {
        "id": "75edc99b-d3e1-43b4-b730-0f4121dafe6a"
      },
      "outputs": [],
      "source": [
        "\n",
        "df['credit_mix'] = df['credit_mix'].map({'Good': 2, 'Standard': 1, 'Bad': 0})\n",
        "\n",
        "df['credit_mix'] = pd.to_numeric(df['credit_mix'], downcast='integer')"
      ]
    },
    {
      "cell_type": "code",
      "execution_count": null,
      "id": "263146f3-2b8c-45cc-aac6-8976a48aa52a",
      "metadata": {
        "id": "263146f3-2b8c-45cc-aac6-8976a48aa52a"
      },
      "outputs": [],
      "source": [
        "df['payment_of_min_amount'] = df['payment_of_min_amount'].map({'Yes': 1, 'No': 0})\n",
        "\n",
        "df['payment_of_min_amount'] = pd.to_numeric(df['payment_of_min_amount'], downcast='integer')\n",
        "df = pd.get_dummies(df, columns=['occupation'])\n",
        "\n",
        "\n",
        "month_map = {\n",
        "    'January': 1,\n",
        "    'February': 2,\n",
        "    'March': 3,\n",
        "    'April': 4,\n",
        "    'May': 5,\n",
        "    'June': 6,\n",
        "    'July': 7,\n",
        "    'August': 8\n",
        "}\n",
        "\n",
        "#Mapping\n",
        "df['month'] = df['month'].map(month_map)\n",
        "\n",
        "df['month'] = pd.to_numeric(df['month'], downcast='integer')"
      ]
    },
    {
      "cell_type": "code",
      "execution_count": null,
      "id": "de3fd940-6ef7-400e-b791-66c4ea27e107",
      "metadata": {
        "id": "de3fd940-6ef7-400e-b791-66c4ea27e107"
      },
      "outputs": [],
      "source": [
        "X = df.drop(\"credit_score\", axis=1)\n",
        "y = df.credit_score"
      ]
    },
    {
      "cell_type": "markdown",
      "id": "64f8969e-b427-4e27-9d82-c2c96ca81535",
      "metadata": {
        "id": "64f8969e-b427-4e27-9d82-c2c96ca81535"
      },
      "source": [
        "## Train Test split"
      ]
    },
    {
      "cell_type": "code",
      "execution_count": null,
      "id": "f374fc8d-cbbe-44ba-914d-059adfd98750",
      "metadata": {
        "id": "f374fc8d-cbbe-44ba-914d-059adfd98750"
      },
      "outputs": [],
      "source": [
        "X_train, X_test, y_train, y_test = train_test_split(X, y, test_size=0.05,\n",
        "                                                    stratify=y, random_state=42)"
      ]
    },
    {
      "cell_type": "code",
      "execution_count": null,
      "id": "cd7e73dc-a62d-41dd-b41c-79433e9a15a2",
      "metadata": {
        "id": "cd7e73dc-a62d-41dd-b41c-79433e9a15a2"
      },
      "outputs": [],
      "source": [
        "robust_columns = ['total_emi_per_month', 'amount_invested_monthly', 'monthly_balance', \"annual_income\", \"monthly_inhand_salary\"]\n",
        "\n",
        "\n",
        "standard_columns = [col for col in X_train.columns if col not in robust_columns]\n",
        "\n",
        "\n",
        "scaler = ColumnTransformer(\n",
        "    transformers=[\n",
        "        ('standard', StandardScaler(), standard_columns),\n",
        "        ('robust', RobustScaler(), robust_columns)])\n",
        "\n",
        "X_train_scaled= scaler.fit_transform(X_train)\n",
        "X_test_scaled = scaler.transform(X_test)"
      ]
    },
    {
      "cell_type": "code",
      "execution_count": null,
      "id": "b704ac70-9101-4006-8257-aa3768eee494",
      "metadata": {
        "id": "b704ac70-9101-4006-8257-aa3768eee494"
      },
      "outputs": [],
      "source": [
        "y_train = np.array(y_train)\n",
        "y_test = np.array(y_test)"
      ]
    },
    {
      "cell_type": "code",
      "execution_count": null,
      "id": "09d5f539-6ace-4fbb-a5ca-38e9951f734b",
      "metadata": {
        "id": "09d5f539-6ace-4fbb-a5ca-38e9951f734b",
        "outputId": "01bb1863-ecfa-425c-dc06-ec6abb2f9bcb"
      },
      "outputs": [
        {
          "data": {
            "text/plain": [
              "1    48928\n",
              "0    26111\n",
              "2    16822\n",
              "Name: count, dtype: int64"
            ]
          },
          "execution_count": 88,
          "metadata": {},
          "output_type": "execute_result"
        }
      ],
      "source": [
        "pd.Series(y_train).value_counts()"
      ]
    },
    {
      "cell_type": "code",
      "execution_count": null,
      "id": "d2a5d06c-006b-4bed-b6d5-dd1477859c26",
      "metadata": {
        "id": "d2a5d06c-006b-4bed-b6d5-dd1477859c26"
      },
      "outputs": [],
      "source": [
        "def eval_metric(model, X_train, y_train, X_test, y_test):\n",
        "    y_train_pred_probabilities = model.predict(X_train)\n",
        "    y_train_pred = y_train_pred_probabilities.argmax(axis=1)\n",
        "    y_pred_probabilities = model.predict(X_test)\n",
        "    y_pred = y_pred_probabilities.argmax(axis=1)\n",
        "\n",
        "    print(\"Test Set:\")\n",
        "    print(confusion_matrix(y_test, y_pred))\n",
        "    print(classification_report(y_test, y_pred))\n",
        "\n",
        "    print(\"\\nTrain Set:\")\n",
        "    print(confusion_matrix(y_train, y_train_pred))\n",
        "    print(classification_report(y_train, y_train_pred))"
      ]
    },
    {
      "cell_type": "markdown",
      "id": "1d1d97fc-8ca5-4fa7-a002-7954b0035f83",
      "metadata": {
        "id": "1d1d97fc-8ca5-4fa7-a002-7954b0035f83"
      },
      "source": [
        "## MODEL PYTORCH"
      ]
    },
    {
      "cell_type": "code",
      "execution_count": null,
      "id": "e274b797-21f5-497b-8d3f-7daa87d858e8",
      "metadata": {
        "id": "e274b797-21f5-497b-8d3f-7daa87d858e8",
        "outputId": "25e8b30a-d4fc-4582-95c0-52324f5738c3"
      },
      "outputs": [
        {
          "name": "stdout",
          "output_type": "stream",
          "text": [
            "mps\n"
          ]
        }
      ],
      "source": [
        "torch.manual_seed(42)\n",
        "\n",
        "\n",
        "class_weights_array = compute_class_weight(class_weight='balanced', classes=np.unique(y_train), y=y_train)\n",
        "class_weights = torch.tensor(class_weights_array, dtype=torch.float32)\n",
        "\n",
        "# Device configuration\n",
        "device = torch.device(\"mps\" if torch.mps.is_available() else \"cpu\")\n",
        "print(device)\n"
      ]
    },
    {
      "cell_type": "markdown",
      "id": "7aba0544-6d40-4068-8351-51014201003c",
      "metadata": {
        "id": "7aba0544-6d40-4068-8351-51014201003c"
      },
      "source": [
        "## Define the model architecture"
      ]
    },
    {
      "cell_type": "code",
      "execution_count": null,
      "id": "e526206f-467c-4fa3-ab51-8193bf518357",
      "metadata": {
        "id": "e526206f-467c-4fa3-ab51-8193bf518357"
      },
      "outputs": [],
      "source": [
        "\n",
        "class ANNModel(nn.Module):\n",
        "    def __init__(self, input_size, num_classes):\n",
        "        super(ANNModel, self).__init__()\n",
        "        self.network = nn.Sequential(\n",
        "            nn.Linear(input_size, 256),\n",
        "            nn.ReLU(),\n",
        "            nn.BatchNorm1d(256),\n",
        "            nn.Dropout(0.35),\n",
        "\n",
        "            nn.Linear(256, 512),\n",
        "            nn.ReLU(),\n",
        "            nn.BatchNorm1d(512),\n",
        "            nn.Dropout(0.1),\n",
        "\n",
        "            nn.Linear(512, 256),\n",
        "            nn.ReLU(),\n",
        "            nn.BatchNorm1d(256),\n",
        "            nn.Dropout(0.1),\n",
        "\n",
        "            nn.Linear(256, 256),\n",
        "            nn.ReLU(),\n",
        "            nn.BatchNorm1d(256),\n",
        "            nn.Dropout(0.1),\n",
        "\n",
        "            nn.Linear(256, num_classes),\n",
        "            nn.Softmax(dim=1)\n",
        "        )\n",
        "\n",
        "    def forward(self, x):\n",
        "        return self.network(x)\n"
      ]
    },
    {
      "cell_type": "markdown",
      "id": "4be68da5-fde5-4ec0-ae20-b200855c33a2",
      "metadata": {
        "id": "4be68da5-fde5-4ec0-ae20-b200855c33a2"
      },
      "source": [
        "## defining hyper-params"
      ]
    },
    {
      "cell_type": "code",
      "execution_count": null,
      "id": "22c9baa6-b484-4fa6-90ef-57ed594e70b9",
      "metadata": {
        "id": "22c9baa6-b484-4fa6-90ef-57ed594e70b9"
      },
      "outputs": [],
      "source": [
        "input_size = X_train.shape[1]\n",
        "num_classes = 3\n",
        "model = ANNModel(input_size, num_classes).to(device)\n",
        "\n",
        "\n",
        "criterion = nn.CrossEntropyLoss(weight=class_weights.to(device))\n",
        "\n",
        "\n",
        "optimizer = optim.Adam(model.parameters(), lr=0.001)\n",
        "\n",
        "\n",
        "patience = 35\n",
        "best_val_accuracy = 0\n",
        "counter = 0\n",
        "\n",
        "# Training loop\n",
        "num_epochs = 100\n",
        "batch_size = 1024\n",
        "train_dataset = torch.utils.data.TensorDataset(torch.tensor(X_train_scaled, dtype=torch.float32),\n",
        "                                                torch.tensor(y_train, dtype=torch.long))\n",
        "train_loader = torch.utils.data.DataLoader(train_dataset, batch_size=batch_size, shuffle=True)\n",
        "\n",
        "val_dataset = torch.utils.data.TensorDataset(torch.tensor(X_test_scaled, dtype=torch.float32),\n",
        "                                              torch.tensor(y_test, dtype=torch.long))\n",
        "val_loader = torch.utils.data.DataLoader(val_dataset, batch_size=batch_size, shuffle=False)\n",
        "\n"
      ]
    },
    {
      "cell_type": "markdown",
      "id": "63cafdef-4c82-46c9-a366-44f84e51dc3e",
      "metadata": {
        "id": "63cafdef-4c82-46c9-a366-44f84e51dc3e"
      },
      "source": [
        "## Running the epochs\n",
        "\n",
        "we are using dropout and early stopping to overcome the overfitting."
      ]
    },
    {
      "cell_type": "code",
      "execution_count": null,
      "id": "1dabcb4e-f479-434b-a751-03cc73f920c6",
      "metadata": {
        "id": "1dabcb4e-f479-434b-a751-03cc73f920c6",
        "outputId": "31999fb5-8386-4926-fd75-b52035dd3d48"
      },
      "outputs": [
        {
          "name": "stdout",
          "output_type": "stream",
          "text": [
            "Epoch 1/100, Train Loss: 0.8572, Val Loss: 0.8282, Val Accuracy: 0.6701\n",
            "Epoch 2/100, Train Loss: 0.8361, Val Loss: 0.8271, Val Accuracy: 0.6707\n",
            "Epoch 3/100, Train Loss: 0.8317, Val Loss: 0.8279, Val Accuracy: 0.6697\n",
            "Epoch 4/100, Train Loss: 0.8300, Val Loss: 0.8253, Val Accuracy: 0.6699\n",
            "Epoch 5/100, Train Loss: 0.8291, Val Loss: 0.8253, Val Accuracy: 0.6734\n",
            "Epoch 6/100, Train Loss: 0.8273, Val Loss: 0.8244, Val Accuracy: 0.6722\n",
            "Epoch 7/100, Train Loss: 0.8268, Val Loss: 0.8244, Val Accuracy: 0.6705\n",
            "Epoch 8/100, Train Loss: 0.8259, Val Loss: 0.8241, Val Accuracy: 0.6720\n",
            "Epoch 9/100, Train Loss: 0.8247, Val Loss: 0.8218, Val Accuracy: 0.6751\n",
            "Epoch 10/100, Train Loss: 0.8237, Val Loss: 0.8208, Val Accuracy: 0.6751\n",
            "Epoch 11/100, Train Loss: 0.8237, Val Loss: 0.8218, Val Accuracy: 0.6751\n",
            "Epoch 12/100, Train Loss: 0.8222, Val Loss: 0.8206, Val Accuracy: 0.6753\n",
            "Epoch 13/100, Train Loss: 0.8208, Val Loss: 0.8159, Val Accuracy: 0.6800\n",
            "Epoch 14/100, Train Loss: 0.8168, Val Loss: 0.8118, Val Accuracy: 0.6834\n",
            "Epoch 15/100, Train Loss: 0.8132, Val Loss: 0.8095, Val Accuracy: 0.6813\n",
            "Epoch 16/100, Train Loss: 0.8114, Val Loss: 0.8066, Val Accuracy: 0.6865\n",
            "Epoch 17/100, Train Loss: 0.8089, Val Loss: 0.8027, Val Accuracy: 0.6914\n",
            "Epoch 18/100, Train Loss: 0.8072, Val Loss: 0.8030, Val Accuracy: 0.6904\n",
            "Epoch 19/100, Train Loss: 0.8057, Val Loss: 0.8043, Val Accuracy: 0.6860\n",
            "Epoch 20/100, Train Loss: 0.8041, Val Loss: 0.8025, Val Accuracy: 0.6920\n",
            "Epoch 21/100, Train Loss: 0.8022, Val Loss: 0.8038, Val Accuracy: 0.6875\n",
            "Epoch 22/100, Train Loss: 0.8009, Val Loss: 0.7995, Val Accuracy: 0.6925\n",
            "Epoch 23/100, Train Loss: 0.8000, Val Loss: 0.7985, Val Accuracy: 0.6980\n",
            "Epoch 24/100, Train Loss: 0.7981, Val Loss: 0.8005, Val Accuracy: 0.6900\n",
            "Epoch 25/100, Train Loss: 0.7975, Val Loss: 0.7965, Val Accuracy: 0.6980\n",
            "Epoch 26/100, Train Loss: 0.7958, Val Loss: 0.7957, Val Accuracy: 0.6976\n",
            "Epoch 27/100, Train Loss: 0.7959, Val Loss: 0.7938, Val Accuracy: 0.7003\n",
            "Epoch 28/100, Train Loss: 0.7941, Val Loss: 0.7968, Val Accuracy: 0.6956\n",
            "Epoch 29/100, Train Loss: 0.7940, Val Loss: 0.7930, Val Accuracy: 0.7028\n",
            "Epoch 30/100, Train Loss: 0.7928, Val Loss: 0.7931, Val Accuracy: 0.6997\n",
            "Epoch 31/100, Train Loss: 0.7914, Val Loss: 0.7933, Val Accuracy: 0.6999\n",
            "Epoch 32/100, Train Loss: 0.7908, Val Loss: 0.7900, Val Accuracy: 0.7051\n",
            "Epoch 33/100, Train Loss: 0.7895, Val Loss: 0.7896, Val Accuracy: 0.7036\n",
            "Epoch 34/100, Train Loss: 0.7887, Val Loss: 0.7909, Val Accuracy: 0.6978\n",
            "Epoch 35/100, Train Loss: 0.7873, Val Loss: 0.7887, Val Accuracy: 0.7024\n",
            "Epoch 36/100, Train Loss: 0.7868, Val Loss: 0.7889, Val Accuracy: 0.7038\n",
            "Epoch 37/100, Train Loss: 0.7860, Val Loss: 0.7883, Val Accuracy: 0.7018\n",
            "Epoch 38/100, Train Loss: 0.7855, Val Loss: 0.7854, Val Accuracy: 0.7044\n",
            "Epoch 39/100, Train Loss: 0.7859, Val Loss: 0.7853, Val Accuracy: 0.7034\n",
            "Epoch 40/100, Train Loss: 0.7841, Val Loss: 0.7851, Val Accuracy: 0.7044\n",
            "Epoch 41/100, Train Loss: 0.7830, Val Loss: 0.7815, Val Accuracy: 0.7117\n",
            "Epoch 42/100, Train Loss: 0.7822, Val Loss: 0.7845, Val Accuracy: 0.7055\n",
            "Epoch 43/100, Train Loss: 0.7817, Val Loss: 0.7810, Val Accuracy: 0.7111\n",
            "Epoch 44/100, Train Loss: 0.7800, Val Loss: 0.7798, Val Accuracy: 0.7104\n",
            "Epoch 45/100, Train Loss: 0.7787, Val Loss: 0.7787, Val Accuracy: 0.7129\n",
            "Epoch 46/100, Train Loss: 0.7796, Val Loss: 0.7781, Val Accuracy: 0.7129\n",
            "Epoch 47/100, Train Loss: 0.7785, Val Loss: 0.7776, Val Accuracy: 0.7150\n",
            "Epoch 48/100, Train Loss: 0.7774, Val Loss: 0.7759, Val Accuracy: 0.7150\n",
            "Epoch 49/100, Train Loss: 0.7770, Val Loss: 0.7764, Val Accuracy: 0.7160\n",
            "Epoch 50/100, Train Loss: 0.7751, Val Loss: 0.7740, Val Accuracy: 0.7206\n",
            "Epoch 51/100, Train Loss: 0.7746, Val Loss: 0.7743, Val Accuracy: 0.7189\n",
            "Epoch 52/100, Train Loss: 0.7733, Val Loss: 0.7726, Val Accuracy: 0.7195\n",
            "Epoch 53/100, Train Loss: 0.7708, Val Loss: 0.7699, Val Accuracy: 0.7208\n",
            "Epoch 54/100, Train Loss: 0.7697, Val Loss: 0.7671, Val Accuracy: 0.7245\n",
            "Epoch 55/100, Train Loss: 0.7673, Val Loss: 0.7667, Val Accuracy: 0.7247\n",
            "Epoch 56/100, Train Loss: 0.7670, Val Loss: 0.7642, Val Accuracy: 0.7334\n",
            "Epoch 57/100, Train Loss: 0.7661, Val Loss: 0.7683, Val Accuracy: 0.7229\n",
            "Epoch 58/100, Train Loss: 0.7651, Val Loss: 0.7635, Val Accuracy: 0.7363\n",
            "Epoch 59/100, Train Loss: 0.7642, Val Loss: 0.7616, Val Accuracy: 0.7369\n",
            "Epoch 60/100, Train Loss: 0.7616, Val Loss: 0.7612, Val Accuracy: 0.7404\n",
            "Epoch 61/100, Train Loss: 0.7614, Val Loss: 0.7610, Val Accuracy: 0.7394\n",
            "Epoch 62/100, Train Loss: 0.7596, Val Loss: 0.7613, Val Accuracy: 0.7377\n",
            "Epoch 63/100, Train Loss: 0.7596, Val Loss: 0.7590, Val Accuracy: 0.7431\n",
            "Epoch 64/100, Train Loss: 0.7594, Val Loss: 0.7610, Val Accuracy: 0.7390\n",
            "Epoch 65/100, Train Loss: 0.7577, Val Loss: 0.7577, Val Accuracy: 0.7450\n",
            "Epoch 66/100, Train Loss: 0.7564, Val Loss: 0.7554, Val Accuracy: 0.7499\n",
            "Epoch 67/100, Train Loss: 0.7559, Val Loss: 0.7577, Val Accuracy: 0.7442\n",
            "Epoch 68/100, Train Loss: 0.7541, Val Loss: 0.7563, Val Accuracy: 0.7437\n",
            "Epoch 69/100, Train Loss: 0.7536, Val Loss: 0.7533, Val Accuracy: 0.7468\n",
            "Epoch 70/100, Train Loss: 0.7518, Val Loss: 0.7537, Val Accuracy: 0.7504\n",
            "Epoch 71/100, Train Loss: 0.7515, Val Loss: 0.7558, Val Accuracy: 0.7485\n",
            "Epoch 72/100, Train Loss: 0.7515, Val Loss: 0.7554, Val Accuracy: 0.7477\n",
            "Epoch 73/100, Train Loss: 0.7507, Val Loss: 0.7514, Val Accuracy: 0.7539\n",
            "Epoch 74/100, Train Loss: 0.7496, Val Loss: 0.7520, Val Accuracy: 0.7489\n",
            "Epoch 75/100, Train Loss: 0.7493, Val Loss: 0.7525, Val Accuracy: 0.7495\n",
            "Epoch 76/100, Train Loss: 0.7483, Val Loss: 0.7478, Val Accuracy: 0.7549\n",
            "Epoch 77/100, Train Loss: 0.7469, Val Loss: 0.7504, Val Accuracy: 0.7514\n",
            "Epoch 78/100, Train Loss: 0.7471, Val Loss: 0.7541, Val Accuracy: 0.7468\n",
            "Epoch 79/100, Train Loss: 0.7455, Val Loss: 0.7494, Val Accuracy: 0.7506\n",
            "Epoch 80/100, Train Loss: 0.7455, Val Loss: 0.7467, Val Accuracy: 0.7557\n",
            "Epoch 81/100, Train Loss: 0.7450, Val Loss: 0.7520, Val Accuracy: 0.7520\n",
            "Epoch 82/100, Train Loss: 0.7442, Val Loss: 0.7434, Val Accuracy: 0.7638\n",
            "Epoch 83/100, Train Loss: 0.7433, Val Loss: 0.7450, Val Accuracy: 0.7593\n",
            "Epoch 84/100, Train Loss: 0.7419, Val Loss: 0.7454, Val Accuracy: 0.7595\n",
            "Epoch 85/100, Train Loss: 0.7415, Val Loss: 0.7433, Val Accuracy: 0.7622\n",
            "Epoch 86/100, Train Loss: 0.7412, Val Loss: 0.7447, Val Accuracy: 0.7588\n",
            "Epoch 87/100, Train Loss: 0.7405, Val Loss: 0.7440, Val Accuracy: 0.7648\n",
            "Epoch 88/100, Train Loss: 0.7410, Val Loss: 0.7440, Val Accuracy: 0.7638\n",
            "Epoch 89/100, Train Loss: 0.7391, Val Loss: 0.7401, Val Accuracy: 0.7671\n",
            "Epoch 90/100, Train Loss: 0.7382, Val Loss: 0.7395, Val Accuracy: 0.7617\n",
            "Epoch 91/100, Train Loss: 0.7377, Val Loss: 0.7406, Val Accuracy: 0.7644\n",
            "Epoch 92/100, Train Loss: 0.7381, Val Loss: 0.7411, Val Accuracy: 0.7640\n",
            "Epoch 93/100, Train Loss: 0.7370, Val Loss: 0.7400, Val Accuracy: 0.7665\n",
            "Epoch 94/100, Train Loss: 0.7374, Val Loss: 0.7360, Val Accuracy: 0.7700\n",
            "Epoch 95/100, Train Loss: 0.7357, Val Loss: 0.7366, Val Accuracy: 0.7710\n",
            "Epoch 96/100, Train Loss: 0.7354, Val Loss: 0.7382, Val Accuracy: 0.7694\n",
            "Epoch 97/100, Train Loss: 0.7347, Val Loss: 0.7393, Val Accuracy: 0.7681\n",
            "Epoch 98/100, Train Loss: 0.7342, Val Loss: 0.7375, Val Accuracy: 0.7710\n",
            "Epoch 99/100, Train Loss: 0.7340, Val Loss: 0.7375, Val Accuracy: 0.7696\n",
            "Epoch 100/100, Train Loss: 0.7335, Val Loss: 0.7374, Val Accuracy: 0.7708\n"
          ]
        },
        {
          "data": {
            "text/plain": [
              "<All keys matched successfully>"
            ]
          },
          "execution_count": 164,
          "metadata": {},
          "output_type": "execute_result"
        }
      ],
      "source": [
        "\n",
        "train_accuracies = []\n",
        "train_losses = []\n",
        "val_losses = []\n",
        "val_accuracies = []\n",
        "\n",
        "for epoch in range(num_epochs):\n",
        "    # Training phase\n",
        "    model.train()\n",
        "    train_loss = 0\n",
        "    for inputs, labels in train_loader:\n",
        "        inputs, labels = inputs.to(device), labels.to(device)\n",
        "\n",
        "        optimizer.zero_grad()\n",
        "        outputs = model(inputs)\n",
        "        loss = criterion(outputs, labels)\n",
        "        loss.backward()\n",
        "        optimizer.step()\n",
        "        train_loss += loss.item()\n",
        "        _, predicted_train = torch.max(outputs, 1)\n",
        "        total_train += labels.size(0)\n",
        "        correct_train += (predicted_train == labels).sum().item()\n",
        "\n",
        "    train_accuracy = correct_train / total_train\n",
        "    train_accuracies.append(train_accuracy)\n",
        "\n",
        "    # Validation phase\n",
        "    model.eval()\n",
        "    val_loss = 0\n",
        "    correct = 0\n",
        "    total = 0\n",
        "    with torch.no_grad():\n",
        "        for inputs, labels in val_loader:\n",
        "            inputs, labels = inputs.to(device), labels.to(device)\n",
        "            outputs = model(inputs)\n",
        "            loss = criterion(outputs, labels)\n",
        "            val_loss += loss.item()\n",
        "            _, predicted = torch.max(outputs, 1)\n",
        "            total += labels.size(0)\n",
        "            correct += (predicted == labels).sum().item()\n",
        "\n",
        "    val_accuracy = correct / total\n",
        "    train_losses.append(train_loss / len(train_loader))\n",
        "    val_losses.append(val_loss / len(val_loader))\n",
        "    val_accuracies.append(val_accuracy)\n",
        "\n",
        "    print(f\"Epoch {epoch + 1}/{num_epochs}, Train Loss: {train_losses[-1]:.4f}, \"\n",
        "          f\"Val Loss: {val_losses[-1]:.4f}, Val Accuracy: {val_accuracies[-1]:.4f}\")\n",
        "\n",
        "    # Early stopping logic\n",
        "    if val_accuracy > best_val_accuracy:\n",
        "        best_val_accuracy = val_accuracy\n",
        "        best_model_weights = model.state_dict()\n",
        "        counter = 0\n",
        "    else:\n",
        "        counter += 1\n",
        "        if counter >= patience:\n",
        "            print(\"Early stopping triggered!\")\n",
        "            break\n",
        "\n",
        "# Load the best model weights\n",
        "model.load_state_dict(best_model_weights)\n",
        "\n",
        "# Plot training vs validation loss\n"
      ]
    },
    {
      "cell_type": "code",
      "execution_count": null,
      "id": "09adc439-05f1-4542-a29a-c7154fe9981a",
      "metadata": {
        "id": "09adc439-05f1-4542-a29a-c7154fe9981a",
        "outputId": "7ac3d31e-7f26-4a36-88ad-e9a5864b0350"
      },
      "outputs": [
        {
          "data": {
            "image/png": "[encoded data removed]",
            "text/plain": [
              "<Figure size 1200x600 with 1 Axes>"
            ]
          },
          "metadata": {},
          "output_type": "display_data"
        },
        {
          "data": {
            "image/png": "[encoded data removed]",
            "text/plain": [
              "<Figure size 1200x600 with 1 Axes>"
            ]
          },
          "metadata": {},
          "output_type": "display_data"
        }
      ],
      "source": [
        "plt.figure(figsize=(12, 6))\n",
        "plt.plot(range(1, len(train_losses) + 1), train_losses, label='Train Loss')\n",
        "plt.plot(range(1, len(val_losses) + 1), val_losses, label='Validation Loss')\n",
        "plt.xlabel('Epochs')\n",
        "plt.ylabel('Loss')\n",
        "plt.title('Training vs Validation Loss')\n",
        "plt.legend()\n",
        "plt.show()\n",
        "\n",
        "# Plot validation accuracy\n",
        "plt.figure(figsize=(12, 6))\n",
        "\n",
        "plt.plot(range(1, len(val_accuracies) + 1), val_accuracies, label='Validation Accuracy')\n",
        "plt.xlabel('Epochs')\n",
        "plt.ylabel('Accuracy')\n",
        "plt.title(' Validation Accuracy')\n",
        "plt.legend()\n",
        "plt.show()"
      ]
    },
    {
      "cell_type": "markdown",
      "id": "b670bbda-171c-441d-8c94-95157a291033",
      "metadata": {
        "id": "b670bbda-171c-441d-8c94-95157a291033"
      },
      "source": [
        "## Confusion matrix and Classification report"
      ]
    },
    {
      "cell_type": "code",
      "execution_count": null,
      "id": "c02b4bcf-12ca-4e85-b562-9e3e77bf2123",
      "metadata": {
        "id": "c02b4bcf-12ca-4e85-b562-9e3e77bf2123",
        "outputId": "cf8344ae-14a2-4b7e-8c13-060064b965b3"
      },
      "outputs": [
        {
          "data": {
            "image/png": "[encoded data removed]",
            "text/plain": [
              "<Figure size 640x480 with 2 Axes>"
            ]
          },
          "metadata": {},
          "output_type": "display_data"
        },
        {
          "name": "stdout",
          "output_type": "stream",
          "text": [
            "Classification Report on test:\n",
            "              precision    recall  f1-score   support\n",
            "\n",
            "     Class 0       0.76      0.85      0.80      1374\n",
            "     Class 1       0.89      0.68      0.77      2575\n",
            "     Class 2       0.60      0.91      0.72       886\n",
            "\n",
            "    accuracy                           0.77      4835\n",
            "   macro avg       0.75      0.81      0.77      4835\n",
            "weighted avg       0.80      0.77      0.77      4835\n",
            "\n"
          ]
        }
      ],
      "source": [
        "model.eval()\n",
        "from sklearn.metrics import confusion_matrix, classification_report, ConfusionMatrixDisplay\n",
        "\n",
        "all_preds = []\n",
        "all_labels = []\n",
        "\n",
        "with torch.no_grad():\n",
        "    for inputs, labels in val_loader:\n",
        "        inputs, labels = inputs.to(device), labels.to(device)\n",
        "        outputs = model(inputs)\n",
        "        _, predicted = torch.max(outputs, 1)\n",
        "        all_preds.extend(predicted.cpu().numpy())\n",
        "        all_labels.extend(labels.cpu().numpy())\n",
        "\n",
        "\n",
        "all_preds = np.array(all_preds)\n",
        "all_labels = np.array(all_labels)\n",
        "\n",
        "\n",
        "conf_matrix = confusion_matrix(all_labels, all_preds)\n",
        "disp = ConfusionMatrixDisplay(confusion_matrix=conf_matrix, display_labels=np.unique(all_labels))\n",
        "disp.plot(cmap='viridis', values_format='d')\n",
        "plt.title(\"Confusion Matrix\")\n",
        "plt.show()\n",
        "\n",
        "\n",
        "class_report = classification_report(all_labels, all_preds, target_names=[f\"Class {i}\" for i in np.unique(all_labels)])\n",
        "print(\"Classification Report on test:\")\n",
        "print(class_report)"
      ]
    },
    {
      "cell_type": "markdown",
      "id": "41894e54-1fb7-4a2e-a877-514a9218d1a3",
      "metadata": {
        "id": "41894e54-1fb7-4a2e-a877-514a9218d1a3"
      },
      "source": [
        "# Comparison of Results"
      ]
    },
    {
      "cell_type": "markdown",
      "id": "bd468b2e-2890-4152-b98e-e969e0834236",
      "metadata": {
        "id": "bd468b2e-2890-4152-b98e-e969e0834236"
      },
      "source": []
    },
    {
      "cell_type": "code",
      "execution_count": null,
      "id": "aa3d2635-c468-436a-8747-c31f306be4ce",
      "metadata": {
        "colab": {
          "base_uri": "https://localhost:8080/",
          "height": 607
        },
        "id": "aa3d2635-c468-436a-8747-c31f306be4ce",
        "outputId": "484df887-79b8-4618-cb87-eb2f82bf115a"
      },
      "outputs": [
        {
          "output_type": "display_data",
          "data": {
            "text/plain": [
              "<Figure size 1000x600 with 1 Axes>"
            ],
            "image/png": "[encoded data removed]"
          },
          "metadata": {}
        }
      ],
      "source": [
        "import matplotlib.pyplot as plt\n",
        "import numpy as np\n",
        "\n",
        "# Performance Metrics\n",
        "models = ['XGBoost', 'Random Forest', 'LightGBM']\n",
        "accuracy = [0.8201, 0.7882, 0.7588]\n",
        "precision = [0.8193, 0.7883, 0.7603]\n",
        "recall = [0.8201, 0.7882, 0.7588]\n",
        "auc_roc = [0.9313, 0.8949, 0.8788]\n",
        "\n",
        "# Bar Width and Positions\n",
        "bar_width = 0.2\n",
        "index = np.arange(len(models))\n",
        "\n",
        "# Plot the bar graph\n",
        "fig, ax = plt.subplots(figsize=(10, 6))\n",
        "\n",
        "plt.bar(index, accuracy, bar_width, label='Accuracy')\n",
        "plt.bar(index + bar_width, precision, bar_width, label='Precision')\n",
        "plt.bar(index + 2 * bar_width, recall, bar_width, label='Recall')\n",
        "plt.bar(index + 3 * bar_width, auc_roc, bar_width, label='AUC-ROC')\n",
        "\n",
        "# Add Labels and Title\n",
        "plt.xlabel('Models', fontsize=12)\n",
        "plt.ylabel('Scores', fontsize=12)\n",
        "plt.title('Performance Comparison of Models', fontsize=14)\n",
        "plt.xticks(index + 1.5 * bar_width, models)\n",
        "plt.legend()\n",
        "\n",
        "# Final Layout Adjustments\n",
        "plt.tight_layout()\n",
        "plt.show()\n"
      ]
    },
    {
      "cell_type": "code",
      "source": [
        "import matplotlib.pyplot as plt\n",
        "import numpy as np\n",
        "\n",
        "# Model performance metrics\n",
        "models = ['XGBoost', 'Random Forest', 'LightGBM', 'ANN']\n",
        "accuracy = [0.8201, 0.7882, 0.7588, 0.77]     # Updated Accuracy for XGBoost\n",
        "precision = [0.8193, 0.7883, 0.7603, 0.80]   # Updated Precision for XGBoost\n",
        "recall = [0.8201, 0.7882, 0.7588, 0.77]      # Updated Recall for XGBoost\n",
        "auc_roc = [0.9313, 0.8949, 0.8788, 0.77]     # Updated AUC-ROC for XGBoost\n",
        "\n",
        "# Bar position and width\n",
        "x = np.arange(len(models))  # Positions for each model\n",
        "width = 0.2  # Width of each bar\n",
        "\n",
        "# Plot the comparison bar graph\n",
        "fig, ax = plt.subplots(figsize=(12, 6))\n",
        "\n",
        "# Plot each metric as grouped bars\n",
        "ax.bar(x - 1.5*width, accuracy, width, label='Accuracy')\n",
        "ax.bar(x - 0.5*width, precision, width, label='Precision')\n",
        "ax.bar(x + 0.5*width, recall, width, label='Recall')\n",
        "ax.bar(x + 1.5*width, auc_roc, width, label='AUC-ROC')\n",
        "\n",
        "# Add labels and titles\n",
        "ax.set_xlabel('Models', fontsize=12)\n",
        "ax.set_ylabel('Scores', fontsize=12)\n",
        "ax.set_title('Comparison of XGBoost, Random Forest, LightGBM, and ANN Models', fontsize=14)\n",
        "ax.set_xticks(x)\n",
        "ax.set_xticklabels(models, fontsize=11)\n",
        "ax.legend()\n",
        "\n",
        "# Optimize layout for readability\n",
        "plt.tight_layout()\n",
        "\n",
        "# Display the plot\n",
        "plt.show()\n"
      ],
      "metadata": {
        "colab": {
          "base_uri": "https://localhost:8080/",
          "height": 607
        },
        "id": "5OB_isoihsUN",
        "outputId": "6631560c-98ef-407d-c864-83f50b011dfe"
      },
      "id": "5OB_isoihsUN",
      "execution_count": null,
      "outputs": [
        {
          "output_type": "display_data",
          "data": {
            "text/plain": [
              "<Figure size 1200x600 with 1 Axes>"
            ],
            "image/png": "[encoded data removed]"
          },
          "metadata": {}
        }
      ]
    },
    {
      "cell_type": "markdown",
      "id": "c8d3704d-fb80-4530-b44c-3ee17f7e281c",
      "metadata": {
        "id": "c8d3704d-fb80-4530-b44c-3ee17f7e281c"
      },
      "source": [
        "# Conclusion"
      ]
    },
    {
      "cell_type": "markdown",
      "source": [
        "The updated graph compares XGBoost, Random Forest, LightGBM, and ANN based on Accuracy, Precision, Recall, and AUC-ROC. Key insights include:\n",
        "\n",
        "XGBoost:\n",
        "\n",
        "Shows significant improvement, achieving the highest AUC-ROC (93.1%) and strong performance in Accuracy (82%), Precision (81.9%), and Recall (82%).\n",
        "Now surpasses Random Forest and LightGBM in all metrics.\n",
        "Random Forest:\n",
        "\n",
        "Previously the top performer, it still maintains competitive performance but slightly trails XGBoost in all metrics.\n",
        "LightGBM:\n",
        "\n",
        "Continues to deliver balanced results but is now clearly outperformed by XGBoost and Random Forest.\n",
        "ANN:\n",
        "\n",
        "Maintains solid performance with Precision (80%) and Accuracy (77%), outperforming LightGBM in precision but lagging behind XGBoost and Random Forest.\n",
        "Summary:\n",
        "XGBoost emerges as the best-performing model with superior results across all metrics.\n",
        "Random Forest remains a strong alternative, while ANN and LightGBM show competitive but slightly lower performance."
      ],
      "metadata": {
        "id": "Rq2XmvMCiURC"
      },
      "id": "Rq2XmvMCiURC"
    },
    {
      "cell_type": "markdown",
      "id": "7971f65b-1734-4666-b2b3-8f687c32fa1c",
      "metadata": {
        "id": "7971f65b-1734-4666-b2b3-8f687c32fa1c"
      },
      "source": [
        "-------------------------------------------------------------------------------------------------\n",
        "Thank you.\n",
        "\n",
        "Group 3"
      ]
    },
    {
      "cell_type": "code",
      "source": [
        "!jupyter nbconvert --to html \"/content/drive/MyDrive/DEEP LEARNING SHREE/Deep learning Project/DL_Credit_MM.ipynb\""
      ],
      "metadata": {
        "colab": {
          "base_uri": "https://localhost:8080/"
        },
        "id": "5ZDQ2GTtiZma",
        "outputId": "bcc481cd-6af7-4314-d744-0716b429581a"
      },
      "id": "5ZDQ2GTtiZma",
      "execution_count": null,
      "outputs": [
        {
          "output_type": "stream",
          "name": "stdout",
          "text": [
            "[NbConvertApp] Converting notebook /content/drive/MyDrive/DEEP LEARNING SHREE/Deep learning Project/DL_Credit_MM.ipynb to html\n",
            "[NbConvertApp] WARNING | Alternative text is missing on 5 image(s).\n",
            "[NbConvertApp] Writing 615605 bytes to /content/drive/MyDrive/DEEP LEARNING SHREE/Deep learning Project/DL_Credit_MM.html\n"
          ]
        }
      ]
    },
    {
      "cell_type": "code",
      "source": [],
      "metadata": {
        "id": "Mvl2nNyci-wx"
      },
      "id": "Mvl2nNyci-wx",
      "execution_count": null,
      "outputs": []
    },
    {
      "cell_type": "code",
      "source": [
        "from google.colab import drive\n",
        "drive.mount('/content/drive')"
      ],
      "metadata": {
        "colab": {
          "base_uri": "https://localhost:8080/"
        },
        "id": "wnwZiRTljD_Q",
        "outputId": "62902f34-2819-4c05-8ff0-e72c404b1714"
      },
      "id": "wnwZiRTljD_Q",
      "execution_count": null,
      "outputs": [
        {
          "output_type": "stream",
          "name": "stdout",
          "text": [
            "Mounted at /content/drive\n"
          ]
        }
      ]
    },
    {
      "cell_type": "code",
      "source": [],
      "metadata": {
        "id": "gwJTkSPLjGiS"
      },
      "id": "gwJTkSPLjGiS",
      "execution_count": null,
      "outputs": []
    }
  ],
  "metadata": {
    "kernelspec": {
      "display_name": "Python 3 (ipykernel)",
      "language": "python",
      "name": "python3"
    },
    "language_info": {
      "codemirror_mode": {
        "name": "ipython",
        "version": 3
      },
      "file_extension": ".py",
      "mimetype": "text/x-python",
      "name": "python",
      "nbconvert_exporter": "python",
      "pygments_lexer": "ipython3",
      "version": "3.11.7"
    },
    "colab": {
      "provenance": []
    }
  },
  "nbformat": 4,
  "nbformat_minor": 5
}